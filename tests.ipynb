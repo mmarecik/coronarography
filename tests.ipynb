{
 "cells": [
  {
   "cell_type": "code",
   "execution_count": 1,
   "id": "2b54ea6f-bcd6-4837-919c-d004227bf3e4",
   "metadata": {},
   "outputs": [
    {
     "name": "stdout",
     "output_type": "stream",
     "text": [
      "\n",
      "EPOCH 1 of 3\n",
      "Training\n"
     ]
    },
    {
     "name": "stderr",
     "output_type": "stream",
     "text": [
      "Loss: 0.1625: 100%|██████████| 25/25 [02:55<00:00,  7.01s/it]\n"
     ]
    },
    {
     "name": "stdout",
     "output_type": "stream",
     "text": [
      "Validating\n"
     ]
    },
    {
     "name": "stderr",
     "output_type": "stream",
     "text": [
      "Loss: 0.2602: 100%|██████████| 25/25 [01:48<00:00,  4.32s/it]\n"
     ]
    },
    {
     "name": "stdout",
     "output_type": "stream",
     "text": [
      "Epoch #1 train loss: 0.333\n",
      "Epoch #1 validation loss: 0.223\n",
      "Took 4.722 minutes for epoch 0\n",
      "\n",
      "Best validation loss: 0.22314531683921815\n",
      "\n",
      "Saving best model for epoch: 1\n",
      "\n",
      "SAVING PLOTS COMPLETE...\n",
      "\n",
      "EPOCH 2 of 3\n",
      "Training\n"
     ]
    },
    {
     "name": "stderr",
     "output_type": "stream",
     "text": [
      "Loss: 0.2462: 100%|██████████| 25/25 [02:58<00:00,  7.15s/it]\n"
     ]
    },
    {
     "name": "stdout",
     "output_type": "stream",
     "text": [
      "Validating\n"
     ]
    },
    {
     "name": "stderr",
     "output_type": "stream",
     "text": [
      "Loss: 0.2038: 100%|██████████| 25/25 [01:47<00:00,  4.31s/it]\n"
     ]
    },
    {
     "name": "stdout",
     "output_type": "stream",
     "text": [
      "Epoch #2 train loss: 0.203\n",
      "Epoch #2 validation loss: 0.180\n",
      "Took 4.776 minutes for epoch 1\n",
      "\n",
      "Best validation loss: 0.17974496513605118\n",
      "\n",
      "Saving best model for epoch: 2\n",
      "\n",
      "SAVING PLOTS COMPLETE...\n",
      "\n",
      "EPOCH 3 of 3\n",
      "Training\n"
     ]
    },
    {
     "name": "stderr",
     "output_type": "stream",
     "text": [
      "Loss: 0.2608: 100%|██████████| 25/25 [02:59<00:00,  7.18s/it]\n"
     ]
    },
    {
     "name": "stdout",
     "output_type": "stream",
     "text": [
      "Validating\n"
     ]
    },
    {
     "name": "stderr",
     "output_type": "stream",
     "text": [
      "Loss: 0.2017: 100%|██████████| 25/25 [01:47<00:00,  4.29s/it]\n"
     ]
    },
    {
     "name": "stdout",
     "output_type": "stream",
     "text": [
      "Epoch #3 train loss: 0.203\n",
      "Epoch #3 validation loss: 0.185\n",
      "Took 4.780 minutes for epoch 2\n",
      "SAVING PLOTS COMPLETE...\n"
     ]
    }
   ],
   "source": [
    "import torch\n",
    "import time\n",
    "import tqdm\n",
    "\n",
    "import fast_rcnn\n",
    "import datasets\n",
    "import config\n",
    "import utils\n",
    "\n",
    "if __name__ == '__main__':\n",
    "    \n",
    "    train_dataset = datasets.get_train_dataset()\n",
    "    train_data_loader = datasets.create_train_loader(train_dataset)\n",
    "    valid_dataset = datasets.get_test_dataset()\n",
    "    valid_data_loader = datasets.create_test_loader(valid_dataset)\n",
    "    \n",
    "    model = fast_rcnn.create_model(num_classes=config.NUM_CLASSES)\n",
    "    model = model.to(config.DEVICE)\n",
    "    params = [p for p in model.parameters() if p.requires_grad]\n",
    "    optimizer = torch.optim.SGD(params, lr=0.0005, momentum=0.9, weight_decay=0.0005)\n",
    "    \n",
    "    train_loss_hist = utils.Averager()\n",
    "    val_loss_hist = utils.Averager()\n",
    "    save_best_model = utils.SaveBestModel()\n",
    "    \n",
    "    train_loss_list = []\n",
    "    val_loss_list = []\n",
    "    \n",
    "    MODEL_NAME = 'FasterRCNN_ResNet50'\n",
    "    \n",
    "    for epoch in range(config.NUM_EPOCHS):\n",
    "        print(f\"\\nEPOCH {epoch+1} of {config.NUM_EPOCHS}\")\n",
    "        \n",
    "        train_loss_hist.reset()\n",
    "        val_loss_hist.reset()\n",
    "    \n",
    "        start = time.time()\n",
    "    \n",
    "        print('Training')\n",
    "        progress_bar = tqdm.tqdm(train_data_loader, total=len(train_data_loader))\n",
    "        for i, data in enumerate(progress_bar):\n",
    "            optimizer.zero_grad()\n",
    "            images, targets = data\n",
    "\n",
    "            images = list(image.to(config.DEVICE) for image in images)\n",
    "            targets = [{k: v.to(config.DEVICE) for k, v in t.items()} for t in targets]\n",
    "\n",
    "            loss_dict = model(images, targets)\n",
    "            \n",
    "            losses = sum(loss for loss in loss_dict.values())\n",
    "            loss_value = losses.item()\n",
    "            train_loss_list.append(loss_value)\n",
    "            train_loss_hist.send(loss_value)\n",
    "            \n",
    "            losses.backward()\n",
    "            optimizer.step()\n",
    "        \n",
    "            # update the loss value beside the progress bar for each iteration\n",
    "            progress_bar.set_description(desc=f\"Loss: {loss_value:.4f}\")\n",
    "        \n",
    "        # validation\n",
    "        print('Validating')\n",
    "        progress_bar = tqdm.tqdm(valid_data_loader, total=len(valid_data_loader))\n",
    "        for i, data in enumerate(progress_bar):\n",
    "            images, targets = data\n",
    "    \n",
    "            images = list(image.to(config.DEVICE) for image in images)\n",
    "            targets = [{k: v.to(config.DEVICE) for k, v in t.items()} for t in targets]\n",
    "    \n",
    "            with torch.no_grad():\n",
    "                loss_dict = model(images, targets)\n",
    "    \n",
    "            losses = sum(loss for loss in loss_dict.values())\n",
    "            loss_value = losses.item()\n",
    "            val_loss_list.append(loss_value)\n",
    "            val_loss_hist.send(loss_value)\n",
    "    \n",
    "            progress_bar.set_description(desc=f\"Loss: {loss_value:.4f}\")\n",
    "        \n",
    "        print(f\"Epoch #{epoch+1} train loss: {train_loss_hist.value:.3f}\")   \n",
    "        print(f\"Epoch #{epoch+1} validation loss: {val_loss_hist.value:.3f}\")   \n",
    "        \n",
    "        end = time.time()\n",
    "        print(f\"Took {((end - start) / 60):.3f} minutes for epoch {epoch}\")\n",
    "    \n",
    "        save_best_model(\n",
    "            val_loss_hist.value, epoch, model, optimizer\n",
    "        )\n",
    "        utils.save_model(epoch, model, optimizer)\n",
    "        utils.save_loss_plot(config.OUT_DIR, train_loss_list, val_loss_list)\n",
    "            \n",
    "        # sleep for 2 seconds after each epoch\n",
    "        time.sleep(2)"
   ]
  },
  {
   "cell_type": "code",
   "execution_count": null,
   "id": "91a0b8be-eefa-473b-a5fb-5961f1e625b9",
   "metadata": {},
   "outputs": [],
   "source": []
  }
 ],
 "metadata": {
  "kernelspec": {
   "display_name": "Python 3 (ipykernel)",
   "language": "python",
   "name": "python3"
  },
  "language_info": {
   "codemirror_mode": {
    "name": "ipython",
    "version": 3
   },
   "file_extension": ".py",
   "mimetype": "text/x-python",
   "name": "python",
   "nbconvert_exporter": "python",
   "pygments_lexer": "ipython3",
   "version": "3.9.18"
  }
 },
 "nbformat": 4,
 "nbformat_minor": 5
}
